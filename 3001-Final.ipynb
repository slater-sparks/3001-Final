{
 "cells": [
  {
   "cell_type": "code",
   "execution_count": 1,
   "metadata": {},
   "outputs": [],
   "source": [
    "import pandas as pd\n",
    "import numpy as np\n",
    "import matplotlib.pyplot as plt\n",
    "from sklearn.model_selection import train_test_split \n",
    "from sklearn.preprocessing import StandardScaler\n",
    "from sklearn.preprocessing import MinMaxScaler\n",
    "from sklearn.neighbors import KNeighborsClassifier\n",
    "from sklearn.neighbors import KNeighborsRegressor\n",
    "from sklearn import metrics\n",
    "import random\n",
    "import seaborn as sns"
   ]
  },
  {
   "cell_type": "code",
   "execution_count": 2,
   "metadata": {},
   "outputs": [],
   "source": [
    "#Load Data\n",
    "march_madness = pd.read_csv('https://raw.githubusercontent.com/fivethirtyeight/data/15f210532b2a642e85738ddefa7a2945d47e2585/ncaa-womens-basketball-tournament/ncaa-womens-basketball-tournament-history.csv', delimiter=',')"
   ]
  },
  {
   "cell_type": "code",
   "execution_count": 3,
   "metadata": {},
   "outputs": [
    {
     "name": "stdout",
     "output_type": "stream",
     "text": [
      "<class 'pandas.core.frame.DataFrame'>\n",
      "RangeIndex: 2092 entries, 0 to 2091\n",
      "Data columns (total 19 columns):\n",
      " #   Column             Non-Null Count  Dtype  \n",
      "---  ------             --------------  -----  \n",
      " 0   Year               2092 non-null   int64  \n",
      " 1   School             2092 non-null   object \n",
      " 2   Seed               2092 non-null   object \n",
      " 3   Conference         2092 non-null   object \n",
      " 4   Conf. W            2092 non-null   object \n",
      " 5   Conf. L            2092 non-null   object \n",
      " 6   Conf. %            2092 non-null   object \n",
      " 7   Conf. place        2092 non-null   object \n",
      " 8   Reg. W             2092 non-null   int64  \n",
      " 9   Reg. L             2092 non-null   int64  \n",
      " 10  Reg. %             2092 non-null   float64\n",
      " 11  How qual           2092 non-null   object \n",
      " 12  1st game at home?  2092 non-null   object \n",
      " 13  Tourney W          2092 non-null   int64  \n",
      " 14  Tourney L          2092 non-null   int64  \n",
      " 15  Tourney finish     2092 non-null   object \n",
      " 16  Full W             2092 non-null   int64  \n",
      " 17  Full L             2092 non-null   int64  \n",
      " 18  Full %             2092 non-null   object \n",
      "dtypes: float64(1), int64(7), object(11)\n",
      "memory usage: 310.7+ KB\n"
     ]
    }
   ],
   "source": [
    "march_madness.info()"
   ]
  },
  {
   "cell_type": "code",
   "execution_count": 4,
   "metadata": {},
   "outputs": [],
   "source": [
    "#target will be tourney wins\n",
    "#change how qual and 1st game at home to binary"
   ]
  },
  {
   "cell_type": "code",
   "execution_count": 5,
   "metadata": {},
   "outputs": [],
   "source": [
    "drop_cols = ['Year', 'School', 'Full W', 'Full L', 'Full %','Conf. %','Conf. place', 'Tourney finish','Tourney L', 'Reg. %']\n",
    "mm = march_madness.drop(columns = drop_cols, axis=1)\n"
   ]
  },
  {
   "cell_type": "code",
   "execution_count": 6,
   "metadata": {},
   "outputs": [],
   "source": [
    "#Change conference column to binary Power 5 variable\n",
    "\n",
    "Power_Five = ['Atlantic Coast', 'Big Ten', 'Big 12', 'Pacific-10', 'Pac-12', 'Southeastern']\n",
    "\n",
    "mm['Power_Five_Conference'] = mm['Conference'].isin(Power_Five).astype(int)\n",
    "\n",
    "mm = mm.drop(columns = 'Conference', axis=1)"
   ]
  },
  {
   "cell_type": "code",
   "execution_count": 7,
   "metadata": {},
   "outputs": [],
   "source": [
    "#Change 'First game at home?' to binary\n",
    "\n",
    "mm['1st game at home?'] = mm['1st game at home?'].map({'Y': 1, 'N': 0})"
   ]
  },
  {
   "cell_type": "code",
   "execution_count": 8,
   "metadata": {},
   "outputs": [
    {
     "data": {
      "text/plain": [
       "<seaborn.axisgrid.FacetGrid at 0x1d976c60990>"
      ]
     },
     "execution_count": 8,
     "metadata": {},
     "output_type": "execute_result"
    },
    {
     "data": {
      "image/png": "[encoded data removed]",
      "text/plain": [
       "<Figure size 709.875x500 with 1 Axes>"
      ]
     },
     "metadata": {},
     "output_type": "display_data"
    }
   ],
   "source": [
    "#Check NaN\n",
    "\n",
    "mm.replace('-', np.nan, inplace=True)\n",
    "mm.replace('(OR)', np.nan, inplace=True)\n",
    "\n",
    "sns.displot(\n",
    "    data=mm.isna().melt(value_name=\"missing\"),\n",
    "    y=\"variable\",\n",
    "    hue=\"missing\",\n",
    "    multiple=\"fill\",\n",
    "    aspect=1.25)"
   ]
  },
  {
   "cell_type": "code",
   "execution_count": 9,
   "metadata": {},
   "outputs": [],
   "source": [
    "mm['Seed'] = pd.to_numeric(mm['Seed'])\n",
    "mm['Conf. W'] = pd.to_numeric(mm['Conf. W'])\n",
    "mm['Conf. L'] = pd.to_numeric(mm['Conf. L'])\n",
    "\n",
    "mm['How qual'] = mm['How qual'].astype('category')"
   ]
  },
  {
   "cell_type": "code",
   "execution_count": 10,
   "metadata": {},
   "outputs": [],
   "source": [
    "#Drop NAs\n",
    "\n",
    "mm_no_na = mm.dropna()"
   ]
  },
  {
   "cell_type": "code",
   "execution_count": 12,
   "metadata": {},
   "outputs": [
    {
     "name": "stdout",
     "output_type": "stream",
     "text": [
      "<class 'pandas.core.frame.DataFrame'>\n",
      "Index: 2025 entries, 3 to 2091\n",
      "Data columns (total 10 columns):\n",
      " #   Column                 Non-Null Count  Dtype  \n",
      "---  ------                 --------------  -----  \n",
      " 0   Seed                   2025 non-null   float64\n",
      " 1   Conf. W                2025 non-null   float64\n",
      " 2   Conf. L                2025 non-null   float64\n",
      " 3   Reg. W                 2025 non-null   int64  \n",
      " 4   Reg. L                 2025 non-null   int64  \n",
      " 5   1st game at home?      2025 non-null   float64\n",
      " 6   Tourney W              2025 non-null   int64  \n",
      " 7   Power_Five_Conference  2025 non-null   int32  \n",
      " 8   How qual_at-large      2025 non-null   bool   \n",
      " 9   How qual_auto          2025 non-null   bool   \n",
      "dtypes: bool(2), float64(4), int32(1), int64(3)\n",
      "memory usage: 138.4 KB\n"
     ]
    }
   ],
   "source": [
    "#One hot encode 'How qual'\n",
    "\n",
    "wom_tourney = pd.get_dummies(mm_no_na)\n",
    "wom_tourney.info()"
   ]
  },
  {
   "cell_type": "code",
   "execution_count": 15,
   "metadata": {},
   "outputs": [],
   "source": [
    "wom_tourney['How qual_at-large'] = wom_tourney['How qual_at-large'].astype(int)\n",
    "wom_tourney['How qual_auto'] = wom_tourney['How qual_auto'].astype(int)"
   ]
  },
  {
   "cell_type": "code",
   "execution_count": 16,
   "metadata": {},
   "outputs": [],
   "source": [
    "#Change Tourney W to ROund Reached\n",
    "\n",
    "wom_tourney.rename(columns={'Tourney W': 'Round Reached'}, inplace=True)\n",
    "\n",
    "# Add 1 to every value in the 'Round Reached' column\n",
    "wom_tourney['Round Reached'] += 1"
   ]
  }
 ],
 "metadata": {
  "kernelspec": {
   "display_name": "base",
   "language": "python",
   "name": "python3"
  },
  "language_info": {
   "codemirror_mode": {
    "name": "ipython",
    "version": 3
   },
   "file_extension": ".py",
   "mimetype": "text/x-python",
   "name": "python",
   "nbconvert_exporter": "python",
   "pygments_lexer": "ipython3",
   "version": "3.11.5"
  }
 },
 "nbformat": 4,
 "nbformat_minor": 2
}
